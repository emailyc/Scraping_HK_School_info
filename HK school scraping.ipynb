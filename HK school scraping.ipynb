{
 "cells": [
  {
   "cell_type": "code",
   "execution_count": 9,
   "metadata": {},
   "outputs": [],
   "source": [
    "from bs4 import BeautifulSoup\n",
    "import requests\n",
    "from selenium import webdriver\n",
    "import scrapy\n",
    "import re"
   ]
  },
  {
   "cell_type": "code",
   "execution_count": 97,
   "metadata": {},
   "outputs": [],
   "source": [
    "PRIMARY_TABLE_URL = \"https://www.schooland.hk/ajax/psdt_processing.php?draw=2&columns%5B0%5D%5Bdata%5D=0&columns%5B0%5D%5Bname%5D=&columns%5B0%5D%5Bsearchable%5D=true&columns%5B0%5D%5Borderable%5D=true&columns%5B0%5D%5Bsearch%5D%5Bvalue%5D=&columns%5B0%5D%5Bsearch%5D%5Bregex%5D=false&columns%5B1%5D%5Bdata%5D=1&columns%5B1%5D%5Bname%5D=&columns%5B1%5D%5Bsearchable%5D=true&columns%5B1%5D%5Borderable%5D=true&columns%5B1%5D%5Bsearch%5D%5Bvalue%5D=&columns%5B1%5D%5Bsearch%5D%5Bregex%5D=false&columns%5B2%5D%5Bdata%5D=2&columns%5B2%5D%5Bname%5D=&columns%5B2%5D%5Bsearchable%5D=true&columns%5B2%5D%5Borderable%5D=true&columns%5B2%5D%5Bsearch%5D%5Bvalue%5D=&columns%5B2%5D%5Bsearch%5D%5Bregex%5D=false&columns%5B3%5D%5Bdata%5D=3&columns%5B3%5D%5Bname%5D=&columns%5B3%5D%5Bsearchable%5D=true&columns%5B3%5D%5Borderable%5D=true&columns%5B3%5D%5Bsearch%5D%5Bvalue%5D=&columns%5B3%5D%5Bsearch%5D%5Bregex%5D=false&columns%5B4%5D%5Bdata%5D=4&columns%5B4%5D%5Bname%5D=&columns%5B4%5D%5Bsearchable%5D=true&columns%5B4%5D%5Borderable%5D=true&columns%5B4%5D%5Bsearch%5D%5Bvalue%5D=&columns%5B4%5D%5Bsearch%5D%5Bregex%5D=false&columns%5B5%5D%5Bdata%5D=5&columns%5B5%5D%5Bname%5D=&columns%5B5%5D%5Bsearchable%5D=true&columns%5B5%5D%5Borderable%5D=true&columns%5B5%5D%5Bsearch%5D%5Bvalue%5D=&columns%5B5%5D%5Bsearch%5D%5Bregex%5D=false&columns%5B6%5D%5Bdata%5D=6&columns%5B6%5D%5Bname%5D=&columns%5B6%5D%5Bsearchable%5D=true&columns%5B6%5D%5Borderable%5D=true&columns%5B6%5D%5Bsearch%5D%5Bvalue%5D=&columns%5B6%5D%5Bsearch%5D%5Bregex%5D=false&order%5B0%5D%5Bcolumn%5D=0&order%5B0%5D%5Bdir%5D=asc&start=0&length=534&search%5Bvalue%5D=&search%5Bregex%5D=false&_=1541053913245\"\n",
    "KINDERGARTEN_TABLE_URL = 'https://www.schooland.hk/ajax/kgdt_processing.php?draw=1&columns%5B0%5D%5Bdata%5D=0&columns%5B0%5D%5Bname%5D=&columns%5B0%5D%5Bsearchable%5D=true&columns%5B0%5D%5Borderable%5D=true&columns%5B0%5D%5Bsearch%5D%5Bvalue%5D=&columns%5B0%5D%5Bsearch%5D%5Bregex%5D=false&columns%5B1%5D%5Bdata%5D=1&columns%5B1%5D%5Bname%5D=&columns%5B1%5D%5Bsearchable%5D=true&columns%5B1%5D%5Borderable%5D=true&columns%5B1%5D%5Bsearch%5D%5Bvalue%5D=&columns%5B1%5D%5Bsearch%5D%5Bregex%5D=false&columns%5B2%5D%5Bdata%5D=2&columns%5B2%5D%5Bname%5D=&columns%5B2%5D%5Bsearchable%5D=true&columns%5B2%5D%5Borderable%5D=true&columns%5B2%5D%5Bsearch%5D%5Bvalue%5D=&columns%5B2%5D%5Bsearch%5D%5Bregex%5D=false&columns%5B3%5D%5Bdata%5D=3&columns%5B3%5D%5Bname%5D=&columns%5B3%5D%5Bsearchable%5D=true&columns%5B3%5D%5Borderable%5D=true&columns%5B3%5D%5Bsearch%5D%5Bvalue%5D=&columns%5B3%5D%5Bsearch%5D%5Bregex%5D=false&columns%5B4%5D%5Bdata%5D=4&columns%5B4%5D%5Bname%5D=&columns%5B4%5D%5Bsearchable%5D=true&columns%5B4%5D%5Borderable%5D=true&columns%5B4%5D%5Bsearch%5D%5Bvalue%5D=&columns%5B4%5D%5Bsearch%5D%5Bregex%5D=false&columns%5B5%5D%5Bdata%5D=5&columns%5B5%5D%5Bname%5D=&columns%5B5%5D%5Bsearchable%5D=true&columns%5B5%5D%5Borderable%5D=true&columns%5B5%5D%5Bsearch%5D%5Bvalue%5D=&columns%5B5%5D%5Bsearch%5D%5Bregex%5D=false&columns%5B6%5D%5Bdata%5D=6&columns%5B6%5D%5Bname%5D=&columns%5B6%5D%5Bsearchable%5D=true&columns%5B6%5D%5Borderable%5D=true&columns%5B6%5D%5Bsearch%5D%5Bvalue%5D=&columns%5B6%5D%5Bsearch%5D%5Bregex%5D=false&order%5B0%5D%5Bcolumn%5D=5&order%5B0%5D%5Bdir%5D=desc&start=0&length=534&search%5Bvalue%5D=&search%5Bregex%5D=false&_=1541063982107'\n"
   ]
  },
  {
   "cell_type": "code",
   "execution_count": 98,
   "metadata": {},
   "outputs": [],
   "source": [
    "def scrap(table_url: str):\n",
    "    options = webdriver.FirefoxOptions()\n",
    "    options.add_argument('--headless')\n",
    "    \n",
    "    #Straight to this line if not trying to set options. Leave options empty\n",
    "    driver = webdriver.Firefox(options=options, executable_path = '/Users/Dants/Documents/geckodriver')\n",
    "    driver.get(table_url)\n",
    "    html = driver.page_source\n",
    "    soup = BeautifulSoup(html, \"html.parser\")\n",
    "    driver.close()\n",
    "    return soup"
   ]
  },
  {
   "cell_type": "code",
   "execution_count": 99,
   "metadata": {},
   "outputs": [],
   "source": [
    "def extract_school_urls(soup,  school_type: str):\n",
    "    school_urls = []\n",
    "    for a in soup.find_all('a', href=True):\n",
    "        school_identifier = a['href']\n",
    "        school_identifier = re.sub('\\\"', '', school_identifier)\n",
    "        school_identifier = re.sub(\"\\\\\\\\\", '', school_identifier)\n",
    "        school_urls.append(\"https://www.schooland.hk/\" + school_type + \"/\" + school_identifier)\n",
    "    return school_urls  "
   ]
  },
  {
   "cell_type": "code",
   "execution_count": 112,
   "metadata": {},
   "outputs": [],
   "source": [
    "def address(x: str, school_type: str):\n",
    "    if school_type == 'ps':\n",
    "        p = re.compile('\\s*(.*)\\。')\n",
    "    elif school_type == 'kg':\n",
    "        p = re.compile('\\s(.*)\\<')\n",
    "    \n",
    "    try:\n",
    "        address = p.search(x).group(1)\n",
    "    except AttributeError:\n",
    "        return '999'\n",
    "    \n",
    "    address = re.sub('.*\\：\\s*', '', address)\n",
    "    return address\n",
    "\n",
    "def phone(x: str):\n",
    "    p = re.compile('\\d{8}') \n",
    "    try:\n",
    "        phone = p.search(x).group(0)\n",
    "    except AttributeError:\n",
    "        return '999'\n",
    "    \n",
    "    return phone\n",
    "\n",
    "def email(x: str):\n",
    "    p = re.compile('mailto\\:(.*)\\\"')\n",
    "    try:\n",
    "        email = p.search(x).group(1)\n",
    "    except AttributeError:\n",
    "        return '999'\n",
    "            \n",
    "    return email\n",
    "\n",
    "def webpage(x: str):\n",
    "    p = re.compile('href=\"(.*)\\\"\\s')\n",
    "    try:\n",
    "        webpage = p.search(x).group(1)\n",
    "    except AttributeError:\n",
    "        return '999'\n",
    "            \n",
    "    return webpage\n",
    "\n",
    "def head(x: str):\n",
    "    p = re.compile('\\：(.*)<br')\n",
    "    try:\n",
    "        phone = p.search(x).group(1)\n",
    "    except AttributeError:\n",
    "        return '999'\n",
    "            \n",
    "    return phone\n"
   ]
  },
  {
   "cell_type": "code",
   "execution_count": 111,
   "metadata": {},
   "outputs": [],
   "source": [
    "def main(table_url: str, how_many_schools: int):\n",
    "    \"\"\"\n",
    "    table_url: the url to the database. Can be optained in the php file.\n",
    "    \n",
    "    how_many_schools: integer. Tells for loop to loop over how many school urls.\n",
    "    \"\"\"\n",
    "    \n",
    "    \n",
    "    school_type = table_url.split(\"/\")[-1][0:2]\n",
    "    \n",
    "    soup = scrap(table_url)\n",
    "\n",
    "    urls = extract_school_urls(soup, school_type)\n",
    "\n",
    "    for school in urls[:how_many_schools]:\n",
    "        #headers = {'User-Agent': 'Mozilla/5.0'}\n",
    "        options = webdriver.FirefoxOptions()\n",
    "        options.add_argument('--headless')\n",
    "        driver = webdriver.Firefox(options=options, executable_path = '/Users/Dants/Documents/geckodriver')\n",
    "        try:\n",
    "            driver.get(school)\n",
    "        except WebDriverException:\n",
    "            yield [school] + [\"999\"] * 6\n",
    "        school_html = driver.page_source\n",
    "        school_soup = BeautifulSoup(school_html, \"html.parser\")\n",
    "        driver.close()\n",
    "\n",
    "        #name of school\n",
    "        name1 = school_soup.find('h4', class_ = 'school-name').contents[0]\n",
    "        try:\n",
    "            name2 = school_soup.find('h4', class_ = 'school-name').contents[2]\n",
    "        except IndexError:\n",
    "            name2 = '999'\n",
    "\n",
    "\n",
    "        #table containing messy info of contacts and name of head master\n",
    "        table = school_soup.find('div', class_ = 'contact')\n",
    "\n",
    "        #table is divided into two parts\n",
    "        contacts = str(table.find_all('p')[0]).split(\"\\n\")\n",
    "        try:\n",
    "            head_master = str(table.find_all('p')[1])\n",
    "        except IndexError:\n",
    "            head_master = '999'\n",
    "\n",
    "            \n",
    "        adr = address(contacts[0], school_type)\n",
    "        \n",
    "        #for some reason these contact info are arranged differently for primary schools and kindergartens pages.\n",
    "        if school_type == 'ps':\n",
    "            p_num = phone(contacts[1])\n",
    "            mail = email(contacts[2])\n",
    "            web = webpage(contacts[3])\n",
    "        elif school_type == 'kg':\n",
    "            p_num = phone(contacts[2])\n",
    "            mail = email(contacts[3])\n",
    "            web = webpage(contacts[4])\n",
    "        \n",
    "        head_master = head(head_master)\n",
    "\n",
    "        school_info = [name1, name2, adr, p_num, mail, web, head_master]\n",
    "        yield school_info\n",
    "        \n",
    "    return "
   ]
  },
  {
   "cell_type": "code",
   "execution_count": 86,
   "metadata": {},
   "outputs": [],
   "source": [
    "#f = open(\"HK primary school info.txt\",\"w+\")\n",
    "#f = open(\"HK primary school info.txt\",\"a\")"
   ]
  },
  {
   "cell_type": "code",
   "execution_count": null,
   "metadata": {},
   "outputs": [],
   "source": [
    "#f.write(\"Name1, Name2, Address, Phone_Number, email, Website, Head_Master\\n\")\n",
    "\n",
    "for info in main(PRIMARY_TABLE_URL):\n",
    "     f.write(info[0] + ',' + \n",
    "             info[1] + ',' + \n",
    "             info[2] + ',' + \n",
    "             info[3] + ',' + \n",
    "             info[4] + ',' + \n",
    "             info[5] + ',' + \n",
    "             info[6] + \n",
    "             \"\\n\")\n",
    "f.close()        "
   ]
  },
  {
   "cell_type": "code",
   "execution_count": 85,
   "metadata": {},
   "outputs": [],
   "source": [
    "f.close()"
   ]
  },
  {
   "cell_type": "code",
   "execution_count": 113,
   "metadata": {},
   "outputs": [],
   "source": [
    "ps_info = [info for info in main(PRIMARY_TABLE_URL, 4)]"
   ]
  },
  {
   "cell_type": "code",
   "execution_count": 114,
   "metadata": {},
   "outputs": [
    {
     "data": {
      "text/plain": [
       "[['Island Christian Academy',\n",
       "  'Island Christian Academy',\n",
       "  '香港必列者士街70號',\n",
       "  '25372552',\n",
       "  'office@islandca.edu.hk',\n",
       "  'http://www.islandca.edu.hk',\n",
       "  'Ms Middleton Deborah Ruth'],\n",
       " ['三水同鄉會禤景榮學校',\n",
       "  'Sam Shui Natives Association Huen King Wing School',\n",
       "  '新界大埔富善邨',\n",
       "  '26619383',\n",
       "  'ssnahkws@eservices.hkedcity.net',\n",
       "  'http://ssnahkws.edu.hk',\n",
       "  '李小寶女士'],\n",
       " ['上水宣道小學',\n",
       "  'Alliance Primary School, Sheung Shui',\n",
       "  '新界粉嶺聯和墟和睦路2號',\n",
       "  '26702257',\n",
       "  'apsmail@apsss.edu.hk',\n",
       "  'http://www.apsss.edu.hk',\n",
       "  '尹素嫻女士'],\n",
       " ['上水惠州公立學校',\n",
       "  'Wai Chow Public School (Sheung Shui)',\n",
       "  '新界上水天平路51號',\n",
       "  '26731183',\n",
       "  'admin@waichow.edu.hk',\n",
       "  'http://www.waichow.edu.hk',\n",
       "  '黃永強先生']]"
      ]
     },
     "execution_count": 114,
     "metadata": {},
     "output_type": "execute_result"
    }
   ],
   "source": [
    "ps_info"
   ]
  },
  {
   "cell_type": "code",
   "execution_count": 48,
   "metadata": {},
   "outputs": [],
   "source": [
    "soup = scrap(KINDERGARTEN_TABLE_URL)\n",
    "urls = extract_school_urls(soup, \"kg\")\n",
    "options = webdriver.FirefoxOptions()\n",
    "options.add_argument('--headless')\n",
    "driver = webdriver.Firefox(options=options, executable_path = '/Users/Dants/Documents/geckodriver')\n",
    "driver.get(urls[0])\n",
    "\n",
    "    \n",
    "school_html = driver.page_source\n",
    "school_soup = BeautifulSoup(school_html, \"html.parser\")\n",
    "driver.close()\n",
    "\n",
    "#name of school\n",
    "name1 = school_soup.find('h4', class_ = 'school-name').contents[0]\n",
    "try:\n",
    "    name2 = school_soup.find('h4', class_ = 'school-name').contents[2]\n",
    "except IndexError:\n",
    "    name2 = '999'"
   ]
  },
  {
   "cell_type": "code",
   "execution_count": 52,
   "metadata": {},
   "outputs": [],
   "source": [
    "table = school_soup.find('div', class_ = 'contact')\n",
    "contacts = str(table.find_all('p')[0]).split(\"\\n\")"
   ]
  },
  {
   "cell_type": "code",
   "execution_count": null,
   "metadata": {},
   "outputs": [],
   "source": []
  }
 ],
 "metadata": {
  "kernelspec": {
   "display_name": "Python 3",
   "language": "python",
   "name": "python3"
  },
  "language_info": {
   "codemirror_mode": {
    "name": "ipython",
    "version": 3
   },
   "file_extension": ".py",
   "mimetype": "text/x-python",
   "name": "python",
   "nbconvert_exporter": "python",
   "pygments_lexer": "ipython3",
   "version": "3.6.4"
  }
 },
 "nbformat": 4,
 "nbformat_minor": 2
}
