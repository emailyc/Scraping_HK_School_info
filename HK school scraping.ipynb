{
 "cells": [
  {
   "cell_type": "code",
   "execution_count": 37,
   "metadata": {},
   "outputs": [],
   "source": [
    "from bs4 import BeautifulSoup\n",
    "import requests\n",
    "from selenium import webdriver\n",
    "import re"
   ]
  },
  {
   "cell_type": "code",
   "execution_count": 38,
   "metadata": {},
   "outputs": [],
   "source": [
    "PRIMARY_TABLE_URL = \"https://www.schooland.hk/ajax/psdt_processing.php?draw=2&columns%5B0%5D%5Bdata%5D=0&columns%5B0%5D%5Bname%5D=&columns%5B0%5D%5Bsearchable%5D=true&columns%5B0%5D%5Borderable%5D=true&columns%5B0%5D%5Bsearch%5D%5Bvalue%5D=&columns%5B0%5D%5Bsearch%5D%5Bregex%5D=false&columns%5B1%5D%5Bdata%5D=1&columns%5B1%5D%5Bname%5D=&columns%5B1%5D%5Bsearchable%5D=true&columns%5B1%5D%5Borderable%5D=true&columns%5B1%5D%5Bsearch%5D%5Bvalue%5D=&columns%5B1%5D%5Bsearch%5D%5Bregex%5D=false&columns%5B2%5D%5Bdata%5D=2&columns%5B2%5D%5Bname%5D=&columns%5B2%5D%5Bsearchable%5D=true&columns%5B2%5D%5Borderable%5D=true&columns%5B2%5D%5Bsearch%5D%5Bvalue%5D=&columns%5B2%5D%5Bsearch%5D%5Bregex%5D=false&columns%5B3%5D%5Bdata%5D=3&columns%5B3%5D%5Bname%5D=&columns%5B3%5D%5Bsearchable%5D=true&columns%5B3%5D%5Borderable%5D=true&columns%5B3%5D%5Bsearch%5D%5Bvalue%5D=&columns%5B3%5D%5Bsearch%5D%5Bregex%5D=false&columns%5B4%5D%5Bdata%5D=4&columns%5B4%5D%5Bname%5D=&columns%5B4%5D%5Bsearchable%5D=true&columns%5B4%5D%5Borderable%5D=true&columns%5B4%5D%5Bsearch%5D%5Bvalue%5D=&columns%5B4%5D%5Bsearch%5D%5Bregex%5D=false&columns%5B5%5D%5Bdata%5D=5&columns%5B5%5D%5Bname%5D=&columns%5B5%5D%5Bsearchable%5D=true&columns%5B5%5D%5Borderable%5D=true&columns%5B5%5D%5Bsearch%5D%5Bvalue%5D=&columns%5B5%5D%5Bsearch%5D%5Bregex%5D=false&columns%5B6%5D%5Bdata%5D=6&columns%5B6%5D%5Bname%5D=&columns%5B6%5D%5Bsearchable%5D=true&columns%5B6%5D%5Borderable%5D=true&columns%5B6%5D%5Bsearch%5D%5Bvalue%5D=&columns%5B6%5D%5Bsearch%5D%5Bregex%5D=false&order%5B0%5D%5Bcolumn%5D=0&order%5B0%5D%5Bdir%5D=asc&start=0&length=534&search%5Bvalue%5D=&search%5Bregex%5D=false&_=1541053913245\"\n",
    "KINDERGARTEN_TABLE_URL = 'https://www.schooland.hk/ajax/kgdt_processing.php?draw=1&columns%5B0%5D%5Bdata%5D=0&columns%5B0%5D%5Bname%5D=&columns%5B0%5D%5Bsearchable%5D=true&columns%5B0%5D%5Borderable%5D=true&columns%5B0%5D%5Bsearch%5D%5Bvalue%5D=&columns%5B0%5D%5Bsearch%5D%5Bregex%5D=false&columns%5B1%5D%5Bdata%5D=1&columns%5B1%5D%5Bname%5D=&columns%5B1%5D%5Bsearchable%5D=true&columns%5B1%5D%5Borderable%5D=true&columns%5B1%5D%5Bsearch%5D%5Bvalue%5D=&columns%5B1%5D%5Bsearch%5D%5Bregex%5D=false&columns%5B2%5D%5Bdata%5D=2&columns%5B2%5D%5Bname%5D=&columns%5B2%5D%5Bsearchable%5D=true&columns%5B2%5D%5Borderable%5D=true&columns%5B2%5D%5Bsearch%5D%5Bvalue%5D=&columns%5B2%5D%5Bsearch%5D%5Bregex%5D=false&columns%5B3%5D%5Bdata%5D=3&columns%5B3%5D%5Bname%5D=&columns%5B3%5D%5Bsearchable%5D=true&columns%5B3%5D%5Borderable%5D=true&columns%5B3%5D%5Bsearch%5D%5Bvalue%5D=&columns%5B3%5D%5Bsearch%5D%5Bregex%5D=false&columns%5B4%5D%5Bdata%5D=4&columns%5B4%5D%5Bname%5D=&columns%5B4%5D%5Bsearchable%5D=true&columns%5B4%5D%5Borderable%5D=true&columns%5B4%5D%5Bsearch%5D%5Bvalue%5D=&columns%5B4%5D%5Bsearch%5D%5Bregex%5D=false&columns%5B5%5D%5Bdata%5D=5&columns%5B5%5D%5Bname%5D=&columns%5B5%5D%5Bsearchable%5D=true&columns%5B5%5D%5Borderable%5D=true&columns%5B5%5D%5Bsearch%5D%5Bvalue%5D=&columns%5B5%5D%5Bsearch%5D%5Bregex%5D=false&columns%5B6%5D%5Bdata%5D=6&columns%5B6%5D%5Bname%5D=&columns%5B6%5D%5Bsearchable%5D=true&columns%5B6%5D%5Borderable%5D=true&columns%5B6%5D%5Bsearch%5D%5Bvalue%5D=&columns%5B6%5D%5Bsearch%5D%5Bregex%5D=false&order%5B0%5D%5Bcolumn%5D=5&order%5B0%5D%5Bdir%5D=desc&start=0&length=534&search%5Bvalue%5D=&search%5Bregex%5D=false&_=1541063982107'\n",
    "TABLE_URLs = {'ps': PRIMARY_TABLE_URL,\n",
    "              'kg': KINDERGARTEN_TABLE_URL}\n"
   ]
  },
  {
   "cell_type": "code",
   "execution_count": 39,
   "metadata": {},
   "outputs": [],
   "source": [
    "def scrap(url: str):\n",
    "    options = webdriver.FirefoxOptions()\n",
    "    options.add_argument('--headless')\n",
    "    \n",
    "    #Straight to this line if not trying to set options. Leave options empty\n",
    "    #driver = webdriver.Firefox(options=options, executable_path = '/Users/Dants/Documents/geckodriver')\n",
    "    driver = webdriver.Firefox(options=options, executable_path = r'C:\\Users\\YiuChung\\Desktop\\Scraping_HK_School_info\\geckodriver.exe')\n",
    "    \n",
    "    try:\n",
    "        driver.get(url)\n",
    "    except WebDriverException:\n",
    "        return -1 #just a random error code\n",
    "    \n",
    "    html = driver.page_source\n",
    "    soup = BeautifulSoup(html, \"html.parser\")\n",
    "    driver.close()\n",
    "    return soup\n",
    "\n",
    "def extract_school_urls(soup,  school_type: str):\n",
    "    for a in soup.find_all('a', href = True):\n",
    "        school_identifier = a['href']\n",
    "        school_identifier = re.sub('\\\"', '', school_identifier)\n",
    "        school_identifier = re.sub(\"\\\\\\\\\", '', school_identifier)\n",
    "        yield \"https://www.schooland.hk/\" + school_type + \"/\" + school_identifier "
   ]
  },
  {
   "cell_type": "code",
   "execution_count": 40,
   "metadata": {},
   "outputs": [],
   "source": [
    "def address(x: str, school_type: str):\n",
    "    school_type_matching = {'ps': '\\s*(.*)\\。',\n",
    "                            'kg': '\\s(.*)\\<'}\n",
    "    \n",
    "    p = re.compile( school_type_matching[school_type] )\n",
    "    \n",
    "    \n",
    "    try:\n",
    "        address = p.search(x).group(1)\n",
    "    except AttributeError:\n",
    "        return '999'\n",
    "    \n",
    "    address = re.sub('.*\\：\\s*', '', address)\n",
    "    return address\n",
    "\n",
    "def phone(x: str):\n",
    "    p = re.compile('\\d{8}') \n",
    "    try:\n",
    "        phone = p.search(x).group(0)\n",
    "    except AttributeError:\n",
    "        return '999'\n",
    "    \n",
    "    return phone\n",
    "\n",
    "def email(x: str):\n",
    "    p = re.compile('mailto\\:(.*)\\\"')\n",
    "    try:\n",
    "        email = p.search(x).group(1)\n",
    "    except AttributeError:\n",
    "        return '999'\n",
    "            \n",
    "    return email\n",
    "\n",
    "def webpage(x: str):\n",
    "    p = re.compile('href=\"(.*)\\\"\\s')\n",
    "    try:\n",
    "        webpage = p.search(x).group(1)\n",
    "    except AttributeError:\n",
    "        return '999'\n",
    "            \n",
    "    return webpage\n",
    "\n",
    "def head(x: str):\n",
    "    p = re.compile('\\：(.*)<br')\n",
    "    try:\n",
    "        phone = p.search(x).group(1)\n",
    "    except AttributeError:\n",
    "        return '999'\n",
    "            \n",
    "    return phone\n"
   ]
  },
  {
   "cell_type": "code",
   "execution_count": 48,
   "metadata": {},
   "outputs": [],
   "source": [
    "    def main(table_url: str, end: int, start = 0):\n",
    "        \"\"\"\n",
    "        table_url: the url to the database. Can be optained in the php file.\n",
    "\n",
    "        how_many_schools: integer. Tells for loop to loop over how many school urls.\n",
    "        \"\"\"\n",
    "\n",
    "        #there is a unique school type code at this position\n",
    "        school_type = table_url.split(\"/\")[-1][0:2]\n",
    "\n",
    "        soup = scrap(table_url)\n",
    "\n",
    "        urls = [url for url in extract_school_urls(soup, school_type)]\n",
    "\n",
    "        for school in urls[start:end]:\n",
    "            school_soup = scrap(school)\n",
    "            if school_soup == -1:\n",
    "                yield [school] + [\"999\"] * 6 \n",
    "                continue\n",
    "\n",
    "            #name of school\n",
    "            name1 = school_soup.find('h4', class_ = 'school-name').contents[0]\n",
    "            try:\n",
    "                name2 = school_soup.find('h4', class_ = 'school-name').contents[2]\n",
    "            except IndexError:\n",
    "                name2 = '999'\n",
    "\n",
    "\n",
    "            #table containing messy info of contacts and name of head master\n",
    "            table = school_soup.find('div', class_ = 'contact')\n",
    "\n",
    "            #table is divided into two parts\n",
    "            contacts = str(table.find_all('p')[0]).split(\"\\n\")\n",
    "            try:\n",
    "                head_master = str(table.find_all('p')[1])\n",
    "            except IndexError:\n",
    "                head_master = '999'\n",
    "\n",
    "\n",
    "            adr = address(contacts[0], school_type)\n",
    "\n",
    "            #for some reason these contact info are arranged differently for primary schools and kindergartens pages.\n",
    "            if school_type == 'ps':\n",
    "                p_num = phone(contacts[1])\n",
    "                mail = email(contacts[2])\n",
    "                web = webpage(contacts[3])\n",
    "            elif school_type == 'kg':\n",
    "                p_num = phone(contacts[2])\n",
    "                mail = email(contacts[3])\n",
    "                web = webpage(contacts[4])\n",
    "\n",
    "            head_master = head(head_master)\n",
    "\n",
    "            school_info = [name1, name2, adr, p_num, mail, web, head_master]\n",
    "            yield school_info\n",
    "\n",
    "        return "
   ]
  },
  {
   "cell_type": "code",
   "execution_count": 44,
   "metadata": {},
   "outputs": [],
   "source": [
    "f = open(r'C:\\Users\\YiuChung\\Desktop\\Scraping_HK_School_info\\HK primary school info.txt',\"a\", encoding=\"utf-8\")"
   ]
  },
  {
   "cell_type": "code",
   "execution_count": 45,
   "metadata": {},
   "outputs": [],
   "source": [
    "for info in main(TABLE_URLs['ps'], 534):\n",
    "     f.write(info[0] + ',' + \n",
    "             info[1] + ',' + \n",
    "             info[2] + ',' + \n",
    "             info[3] + ',' + \n",
    "             info[4] + ',' + \n",
    "             info[5] + ',' + \n",
    "             info[6] + \n",
    "             \"\\n\")\n",
    "f.close()        "
   ]
  },
  {
   "cell_type": "code",
   "execution_count": 46,
   "metadata": {},
   "outputs": [],
   "source": [
    "#f = open(\"HK primary school info.txt\",\"w+\")\n",
    "#f = open(r\"HK primary school info.txt\",\"a\")\n",
    "#f = open(r'C:\\Users\\YiuChung\\Desktop\\Scraping_HK_School_info\\HK primary school info.txt',\"a\")\n",
    "f = open(r'C:\\Users\\YiuChung\\Desktop\\Scraping_HK_School_info\\HK Kindergarten info.txt',\"a\", encoding=\"utf-8\")"
   ]
  },
  {
   "cell_type": "code",
   "execution_count": 31,
   "metadata": {},
   "outputs": [],
   "source": [
    "f.write(\"Name1\\tName2\\tAddress\\tPhone_Number\\tEmail\\tWebsite\\tHead_Master\\n\")\n",
    "\n",
    "for info in main(TABLE_URLs['kg'], 1029):\n",
    "     f.write(info[0] + '\\t' + \n",
    "             info[1] + '\\t' + \n",
    "             info[2] + '\\t' + \n",
    "             info[3] + '\\t' + \n",
    "             info[4] + '\\t' + \n",
    "             info[5] + '\\t' + \n",
    "             info[6] + \n",
    "             \"\\n\")\n",
    "f.close()        "
   ]
  },
  {
   "cell_type": "code",
   "execution_count": 49,
   "metadata": {},
   "outputs": [],
   "source": [
    "f.close()"
   ]
  },
  {
   "cell_type": "code",
   "execution_count": 28,
   "metadata": {},
   "outputs": [],
   "source": [
    "kg_info = [info for info in main(TABLE_URLs['kg'], 2)]"
   ]
  },
  {
   "cell_type": "code",
   "execution_count": 26,
   "metadata": {},
   "outputs": [
    {
     "data": {
      "text/plain": [
       "<_io.TextIOWrapper name='C:\\\\Users\\\\YiuChung\\\\Desktop\\\\Scraping_HK_School_info\\\\HK primary school info.txt' mode='a' encoding='utf-8'>"
      ]
     },
     "execution_count": 26,
     "metadata": {},
     "output_type": "execute_result"
    }
   ],
   "source": []
  },
  {
   "cell_type": "code",
   "execution_count": null,
   "metadata": {},
   "outputs": [],
   "source": []
  }
 ],
 "metadata": {
  "kernelspec": {
   "display_name": "Python 3",
   "language": "python",
   "name": "python3"
  },
  "language_info": {
   "codemirror_mode": {
    "name": "ipython",
    "version": 3
   },
   "file_extension": ".py",
   "mimetype": "text/x-python",
   "name": "python",
   "nbconvert_exporter": "python",
   "pygments_lexer": "ipython3",
   "version": "3.7.1"
  }
 },
 "nbformat": 4,
 "nbformat_minor": 2
}
